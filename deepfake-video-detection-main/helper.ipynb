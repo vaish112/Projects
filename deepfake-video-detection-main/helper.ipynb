{
 "cells": [
  {
   "cell_type": "code",
   "execution_count": null,
   "metadata": {},
   "outputs": [],
   "source": [
    "import shutil\n",
    "import os\n",
    "\n",
    "source = 'D:\\deepfake_detection\\datasets\\\\all_test_train\\\\'\n",
    "dest1 = 'D:\\deepfake_detection\\datasets\\compress_test_train_img\\\\'\n",
    "\n",
    "files = os.listdir(source)\n",
    "\n",
    "for f in files:\n",
    "    if f in df.index:\n",
    "        shutil.copy(source+f, dest1)"
   ]
  }
 ],
 "metadata": {
  "language_info": {
   "name": "python"
  },
  "orig_nbformat": 4
 },
 "nbformat": 4,
 "nbformat_minor": 2
}
